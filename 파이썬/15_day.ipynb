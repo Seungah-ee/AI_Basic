{
 "cells": [
  {
   "cell_type": "code",
   "execution_count": 38,
   "metadata": {},
   "outputs": [],
   "source": [
    "from tensorflow.keras.layers import Conv2D, MaxPooling2D, Flatten, Dense\n"
   ]
  },
  {
   "cell_type": "code",
   "execution_count": 39,
   "metadata": {},
   "outputs": [],
   "source": [
    "conv1 = tf.keras.Sequential()\n",
    "conv1.add(Conv2D(10, (3, 3), activation='relu', padding='same', input_shape=(28, 28, 1)))"
   ]
  },
  {
   "cell_type": "code",
   "execution_count": 40,
   "metadata": {},
   "outputs": [],
   "source": [
    "conv1.add(MaxPooling2D((2, 2)))"
   ]
  },
  {
   "cell_type": "code",
   "execution_count": 41,
   "metadata": {},
   "outputs": [],
   "source": [
    "conv1.add(Flatten())"
   ]
  },
  {
   "cell_type": "code",
   "execution_count": 42,
   "metadata": {},
   "outputs": [],
   "source": [
    "conv1.add(Dense(100, activation='relu'))\n",
    "conv1.add(Dense(10, activation='softmax'))"
   ]
  },
  {
   "cell_type": "code",
   "execution_count": 43,
   "metadata": {},
   "outputs": [
    {
     "name": "stdout",
     "output_type": "stream",
     "text": [
      "Model: \"sequential\"\n",
      "_________________________________________________________________\n",
      "Layer (type)                 Output Shape              Param #   \n",
      "=================================================================\n",
      "conv2d_13 (Conv2D)           (None, 28, 28, 10)        100       \n",
      "_________________________________________________________________\n",
      "max_pooling2d_3 (MaxPooling2 (None, 14, 14, 10)        0         \n",
      "_________________________________________________________________\n",
      "flatten (Flatten)            (None, 1960)              0         \n",
      "_________________________________________________________________\n",
      "dense (Dense)                (None, 100)               196100    \n",
      "_________________________________________________________________\n",
      "dense_1 (Dense)              (None, 10)                1010      \n",
      "=================================================================\n",
      "Total params: 197,210\n",
      "Trainable params: 197,210\n",
      "Non-trainable params: 0\n",
      "_________________________________________________________________\n"
     ]
    }
   ],
   "source": [
    "conv1.summary()"
   ]
  },
  {
   "cell_type": "code",
   "execution_count": 44,
   "metadata": {},
   "outputs": [],
   "source": [
    "conv1.compile(optimizer='adam', loss='categorical_crossentropy',\n",
    "              metrics=['accuracy'])"
   ]
  },
  {
   "cell_type": "code",
   "execution_count": 45,
   "metadata": {},
   "outputs": [
    {
     "name": "stdout",
     "output_type": "stream",
     "text": [
      "Epoch 1/20\n",
      "1500/1500 [==============================] - 12s 8ms/step - loss: 0.4563 - accuracy: 0.8401 - val_loss: 0.3369 - val_accuracy: 0.8826\n",
      "Epoch 2/20\n",
      "1500/1500 [==============================] - 12s 8ms/step - loss: 0.3159 - accuracy: 0.8879 - val_loss: 0.3047 - val_accuracy: 0.8928\n",
      "Epoch 3/20\n",
      "1500/1500 [==============================] - 11s 8ms/step - loss: 0.2705 - accuracy: 0.9007 - val_loss: 0.2767 - val_accuracy: 0.9025\n",
      "Epoch 4/20\n",
      "1500/1500 [==============================] - 12s 8ms/step - loss: 0.2404 - accuracy: 0.9114 - val_loss: 0.2634 - val_accuracy: 0.9068\n",
      "Epoch 5/20\n",
      "1500/1500 [==============================] - 11s 8ms/step - loss: 0.2129 - accuracy: 0.9218 - val_loss: 0.2539 - val_accuracy: 0.9109\n",
      "Epoch 6/20\n",
      "1500/1500 [==============================] - 11s 8ms/step - loss: 0.1908 - accuracy: 0.9296 - val_loss: 0.2580 - val_accuracy: 0.9097\n",
      "Epoch 7/20\n",
      "1500/1500 [==============================] - 11s 8ms/step - loss: 0.1720 - accuracy: 0.9359 - val_loss: 0.2595 - val_accuracy: 0.9128\n",
      "Epoch 8/20\n",
      "1500/1500 [==============================] - 11s 8ms/step - loss: 0.1563 - accuracy: 0.9421 - val_loss: 0.2792 - val_accuracy: 0.9078\n",
      "Epoch 9/20\n",
      "1500/1500 [==============================] - 11s 8ms/step - loss: 0.1390 - accuracy: 0.9485 - val_loss: 0.2684 - val_accuracy: 0.9157\n",
      "Epoch 10/20\n",
      "1500/1500 [==============================] - 11s 8ms/step - loss: 0.1243 - accuracy: 0.9541 - val_loss: 0.2946 - val_accuracy: 0.9102\n",
      "Epoch 11/20\n",
      "1500/1500 [==============================] - 10s 7ms/step - loss: 0.1118 - accuracy: 0.9589 - val_loss: 0.2973 - val_accuracy: 0.9120\n",
      "Epoch 12/20\n",
      "1500/1500 [==============================] - 10s 7ms/step - loss: 0.1009 - accuracy: 0.9622 - val_loss: 0.2915 - val_accuracy: 0.9112\n",
      "Epoch 13/20\n",
      "1500/1500 [==============================] - 10s 7ms/step - loss: 0.0913 - accuracy: 0.9655 - val_loss: 0.3135 - val_accuracy: 0.9153\n",
      "Epoch 14/20\n",
      "1500/1500 [==============================] - 10s 7ms/step - loss: 0.0807 - accuracy: 0.9715 - val_loss: 0.3288 - val_accuracy: 0.9150\n",
      "Epoch 15/20\n",
      "1500/1500 [==============================] - 10s 7ms/step - loss: 0.0726 - accuracy: 0.9737 - val_loss: 0.3415 - val_accuracy: 0.9141\n",
      "Epoch 16/20\n",
      "1500/1500 [==============================] - 10s 7ms/step - loss: 0.0646 - accuracy: 0.9767 - val_loss: 0.3553 - val_accuracy: 0.9097\n",
      "Epoch 17/20\n",
      "1500/1500 [==============================] - 10s 7ms/step - loss: 0.0590 - accuracy: 0.9797 - val_loss: 0.3559 - val_accuracy: 0.9103\n",
      "Epoch 18/20\n",
      "1500/1500 [==============================] - 10s 7ms/step - loss: 0.0559 - accuracy: 0.9802 - val_loss: 0.3688 - val_accuracy: 0.9118\n",
      "Epoch 19/20\n",
      "1500/1500 [==============================] - 10s 7ms/step - loss: 0.0459 - accuracy: 0.9837 - val_loss: 0.3997 - val_accuracy: 0.9118\n",
      "Epoch 20/20\n",
      "1500/1500 [==============================] - 10s 7ms/step - loss: 0.0425 - accuracy: 0.9854 - val_loss: 0.4172 - val_accuracy: 0.9122\n"
     ]
    }
   ],
   "source": [
    "history = conv1.fit(x_train, y_train_encoded, epochs=20, \n",
    "                    validation_data=(x_val, y_val_encoded))"
   ]
  },
  {
   "cell_type": "code",
   "execution_count": 47,
   "metadata": {},
   "outputs": [
    {
     "data": {
      "image/png": "[encoded data removed]",
      "text/plain": [
       "<Figure size 432x288 with 1 Axes>"
      ]
     },
     "metadata": {
      "needs_background": "light"
     },
     "output_type": "display_data"
    }
   ],
   "source": [
    "plt.plot(history.history['loss'])\n",
    "plt.plot(history.history['val_loss'])\n",
    "plt.ylabel('loss')\n",
    "plt.xlabel('epoch')\n",
    "plt.legend(['train_loss', 'val_loss'])\n",
    "plt.show()"
   ]
  },
  {
   "cell_type": "code",
   "execution_count": 48,
   "metadata": {},
   "outputs": [
    {
     "data": {
      "image/png": "[encoded data removed]",
      "text/plain": [
       "<Figure size 432x288 with 1 Axes>"
      ]
     },
     "metadata": {
      "needs_background": "light"
     },
     "output_type": "display_data"
    }
   ],
   "source": [
    "plt.plot(history.history['accuracy'])\n",
    "plt.plot(history.history['val_accuracy'])\n",
    "plt.ylabel('accuracy')\n",
    "plt.xlabel('epoch')\n",
    "plt.legend(['train_accuracy', 'val_accuracy'])\n",
    "plt.show()"
   ]
  },
  {
   "cell_type": "code",
   "execution_count": 49,
   "metadata": {},
   "outputs": [],
   "source": [
    "from tensorflow.keras.layers import Dropout\n",
    "\n",
    "conv2 = tf.keras.Sequential()\n",
    "conv2.add(Conv2D(10, (3, 3), activation='relu', padding='same', input_shape=(28, 28, 1)))\n",
    "conv2.add(MaxPooling2D((2, 2)))\n",
    "conv2.add(Flatten())\n",
    "conv2.add(Dropout(0.5))\n",
    "conv2.add(Dense(100, activation='relu'))\n",
    "conv2.add(Dense(10, activation='softmax'))\n"
   ]
  },
  {
   "cell_type": "code",
   "execution_count": 50,
   "metadata": {},
   "outputs": [
    {
     "name": "stdout",
     "output_type": "stream",
     "text": [
      "Model: \"sequential_1\"\n",
      "_________________________________________________________________\n",
      "Layer (type)                 Output Shape              Param #   \n",
      "=================================================================\n",
      "conv2d_14 (Conv2D)           (None, 28, 28, 10)        100       \n",
      "_________________________________________________________________\n",
      "max_pooling2d_4 (MaxPooling2 (None, 14, 14, 10)        0         \n",
      "_________________________________________________________________\n",
      "flatten_1 (Flatten)          (None, 1960)              0         \n",
      "_________________________________________________________________\n",
      "dropout (Dropout)            (None, 1960)              0         \n",
      "_________________________________________________________________\n",
      "dense_2 (Dense)              (None, 100)               196100    \n",
      "_________________________________________________________________\n",
      "dense_3 (Dense)              (None, 10)                1010      \n",
      "=================================================================\n",
      "Total params: 197,210\n",
      "Trainable params: 197,210\n",
      "Non-trainable params: 0\n",
      "_________________________________________________________________\n"
     ]
    }
   ],
   "source": [
    "conv2.summary()"
   ]
  },
  {
   "cell_type": "code",
   "execution_count": 51,
   "metadata": {},
   "outputs": [
    {
     "name": "stdout",
     "output_type": "stream",
     "text": [
      "Epoch 1/20\n",
      "1500/1500 [==============================] - 13s 8ms/step - loss: 0.5012 - accuracy: 0.8209 - val_loss: 0.3619 - val_accuracy: 0.8707\n",
      "Epoch 2/20\n",
      "1500/1500 [==============================] - 12s 8ms/step - loss: 0.3697 - accuracy: 0.8664 - val_loss: 0.2989 - val_accuracy: 0.8925\n",
      "Epoch 3/20\n",
      "1500/1500 [==============================] - 13s 9ms/step - loss: 0.3386 - accuracy: 0.8751 - val_loss: 0.2989 - val_accuracy: 0.8907\n",
      "Epoch 4/20\n",
      "1500/1500 [==============================] - 12s 8ms/step - loss: 0.3125 - accuracy: 0.8852 - val_loss: 0.2931 - val_accuracy: 0.8924\n",
      "Epoch 5/20\n",
      "1500/1500 [==============================] - 11s 7ms/step - loss: 0.2909 - accuracy: 0.8913 - val_loss: 0.2655 - val_accuracy: 0.9028\n",
      "Epoch 6/20\n",
      "1500/1500 [==============================] - 11s 7ms/step - loss: 0.2770 - accuracy: 0.8973 - val_loss: 0.2563 - val_accuracy: 0.9075\n",
      "Epoch 7/20\n",
      "1500/1500 [==============================] - 11s 8ms/step - loss: 0.2660 - accuracy: 0.9005 - val_loss: 0.2474 - val_accuracy: 0.9096\n",
      "Epoch 8/20\n",
      "1500/1500 [==============================] - 11s 7ms/step - loss: 0.2567 - accuracy: 0.9046 - val_loss: 0.2497 - val_accuracy: 0.9092\n",
      "Epoch 9/20\n",
      "1500/1500 [==============================] - 10s 7ms/step - loss: 0.2465 - accuracy: 0.9067 - val_loss: 0.2428 - val_accuracy: 0.9142\n",
      "Epoch 10/20\n",
      "1500/1500 [==============================] - 10s 7ms/step - loss: 0.2384 - accuracy: 0.9109 - val_loss: 0.2334 - val_accuracy: 0.9139\n",
      "Epoch 11/20\n",
      "1500/1500 [==============================] - 10s 7ms/step - loss: 0.2302 - accuracy: 0.9136 - val_loss: 0.2367 - val_accuracy: 0.9143\n",
      "Epoch 12/20\n",
      "1500/1500 [==============================] - 10s 7ms/step - loss: 0.2243 - accuracy: 0.9158 - val_loss: 0.2345 - val_accuracy: 0.9139\n",
      "Epoch 13/20\n",
      "1500/1500 [==============================] - 10s 7ms/step - loss: 0.2182 - accuracy: 0.9185 - val_loss: 0.2340 - val_accuracy: 0.9178\n",
      "Epoch 14/20\n",
      "1500/1500 [==============================] - 10s 7ms/step - loss: 0.2127 - accuracy: 0.9199 - val_loss: 0.2253 - val_accuracy: 0.9204\n",
      "Epoch 15/20\n",
      "1500/1500 [==============================] - 10s 7ms/step - loss: 0.2082 - accuracy: 0.9209 - val_loss: 0.2342 - val_accuracy: 0.9147\n",
      "Epoch 16/20\n",
      "1500/1500 [==============================] - 10s 7ms/step - loss: 0.2036 - accuracy: 0.9226 - val_loss: 0.2421 - val_accuracy: 0.9136\n",
      "Epoch 17/20\n",
      "1500/1500 [==============================] - 11s 7ms/step - loss: 0.1986 - accuracy: 0.9252 - val_loss: 0.2268 - val_accuracy: 0.9193\n",
      "Epoch 18/20\n",
      "1500/1500 [==============================] - 10s 7ms/step - loss: 0.1931 - accuracy: 0.9280 - val_loss: 0.2285 - val_accuracy: 0.9206\n",
      "Epoch 19/20\n",
      "1500/1500 [==============================] - 10s 7ms/step - loss: 0.1893 - accuracy: 0.9288 - val_loss: 0.2352 - val_accuracy: 0.9178\n",
      "Epoch 20/20\n",
      "1500/1500 [==============================] - 10s 7ms/step - loss: 0.1842 - accuracy: 0.9295 - val_loss: 0.2255 - val_accuracy: 0.9212\n"
     ]
    }
   ],
   "source": [
    "conv2.compile(optimizer='adam', loss='categorical_crossentropy',\n",
    "              metrics=['accuracy'])\n",
    "history = conv2.fit(x_train, y_train_encoded, epochs=20, \n",
    "                    validation_data=(x_val, y_val_encoded))"
   ]
  },
  {
   "cell_type": "code",
   "execution_count": 52,
   "metadata": {},
   "outputs": [
    {
     "data": {
      "image/png": "[encoded data removed]",
      "text/plain": [
       "<Figure size 432x288 with 1 Axes>"
      ]
     },
     "metadata": {
      "needs_background": "light"
     },
     "output_type": "display_data"
    }
   ],
   "source": [
    "plt.plot(history.history['accuracy'])\n",
    "plt.plot(history.history['val_accuracy'])\n",
    "plt.ylabel('accuracy')\n",
    "plt.xlabel('epoch')\n",
    "plt.legend(['train_accuracy', 'val_accuracy'])\n",
    "plt.show()"
   ]
  },
  {
   "cell_type": "code",
   "execution_count": null,
   "metadata": {},
   "outputs": [],
   "source": []
  }
 ],
 "metadata": {
  "kernelspec": {
   "display_name": "Python 3",
   "language": "python",
   "name": "python3"
  },
  "language_info": {
   "codemirror_mode": {
    "name": "ipython",
    "version": 3
   },
   "file_extension": ".py",
   "mimetype": "text/x-python",
   "name": "python",
   "nbconvert_exporter": "python",
   "pygments_lexer": "ipython3",
   "version": "3.8.3"
  }
 },
 "nbformat": 4,
 "nbformat_minor": 4
}
