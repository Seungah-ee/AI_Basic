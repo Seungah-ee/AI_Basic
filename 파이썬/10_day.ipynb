{
 "cells": [
  {
   "cell_type": "code",
   "execution_count": 132,
   "metadata": {},
   "outputs": [
    {
     "name": "stdout",
     "output_type": "stream",
     "text": [
      "[-5 -4 -3 -2 -1  0  1  2  3  4  5  6  7  8  9]\n"
     ]
    },
    {
     "data": {
      "text/plain": [
       "array([0, 0, 0, 0, 0, 0, 1, 2, 3, 4, 5, 5, 5, 5, 5])"
      ]
     },
     "execution_count": 132,
     "metadata": {},
     "output_type": "execute_result"
    }
   ],
   "source": [
    "import numpy as np\n",
    "\n",
    "# a = np.array([-5,-4,-3,-2,-1,0,1,2,3,4,5,6,7,8,9])\n",
    "a = np.arange(-5,10)\n",
    "print(a)\n",
    "a = np.clip(a, 0, 5)\n",
    "a"
   ]
  },
  {
   "cell_type": "code",
   "execution_count": 204,
   "metadata": {},
   "outputs": [
    {
     "name": "stdout",
     "output_type": "stream",
     "text": [
      "[3 2 4 5 1 6 7]\n",
      "[3 1 5 6 4 2 7]\n"
     ]
    }
   ],
   "source": [
    "x = np.array([3,2,4,5,1,6,7])\n",
    "print(x)\n",
    "indexes = np.random.permutation(np.arange(len(x)))\n",
    "print(x[indexes])"
   ]
  },
  {
   "cell_type": "markdown",
   "metadata": {},
   "source": [
    "### single layer 구현"
   ]
  },
  {
   "cell_type": "code",
   "execution_count": 206,
   "metadata": {},
   "outputs": [
    {
     "data": {
      "text/plain": [
       "0.8947368421052632"
      ]
     },
     "execution_count": 206,
     "metadata": {},
     "output_type": "execute_result"
    }
   ],
   "source": [
    "import numpy as np\n",
    "import matplotlib.pyplot as plt\n",
    "from sklearn.datasets import load_breast_cancer\n",
    "from sklearn.model_selection import train_test_split\n",
    "\n",
    "cancer = load_breast_cancer()\n",
    "x = cancer.data\n",
    "y = cancer.target\n",
    "x_train, x_test, y_train, y_test = train_test_split(x, y, stratify=y, \n",
    "                                                    test_size=0.2, random_state=42)\n",
    "\n",
    "class SingleLayer:\n",
    "    \n",
    "    def __init__(self):\n",
    "        self.w = None\n",
    "        self.b = None\n",
    "        self.losses = []\n",
    "\n",
    "    def forpass(self, x):\n",
    "        z = np.sum(x * self.w) + self.b  # 직선 방정식을 계산합니다\n",
    "        return z\n",
    "\n",
    "    def backprop(self, x, err):\n",
    "        w_grad = x * err    # 가중치에 대한 그래디언트를 계산합니다\n",
    "        b_grad = 1 * err    # 절편에 대한 그래디언트를 계산합니다\n",
    "        return w_grad, b_grad\n",
    "\n",
    "    def activation(self, z):\n",
    "        z = np.clip(z, -100, None) # 안전한 np.exp() 계산을 위해\n",
    "        a = 1 / (1 + np.exp(-z))  # 시그모이드 계산\n",
    "        return a\n",
    "        \n",
    "    def fit(self, x, y, epochs=100):\n",
    "        self.w = np.ones(x.shape[1])               # 가중치를 초기화합니다.\n",
    "        self.b = 0                                 # 절편을 초기화합니다.\n",
    "        for i in range(epochs):                    # epochs만큼 반복합니다\n",
    "            loss = 0\n",
    "            # 인덱스를 섞습니다\n",
    "            indexes = np.random.permutation(np.arange(len(x)))\n",
    "            for i in indexes:                      # 모든 샘플에 대해 반복합니다\n",
    "                z = self.forpass(x[i])             # 정방향 계산\n",
    "                a = self.activation(z)             # 활성화 함수 적용\n",
    "                err = a - y[i]                     # 오차 계산\n",
    "                w_grad, b_grad = self.backprop(x[i], err) # 역방향 계산\n",
    "                self.w -= w_grad                   # 가중치 업데이트\n",
    "                self.b -= b_grad                   # 절편 업데이트\n",
    "                # 안전한 로그 계산을 위해 클리핑한 후 손실을 누적합니다\n",
    "                a = np.clip(a, 1e-10, 1-1e-10)\n",
    "                loss += -(y[i]*np.log(a)+(1-y[i])*np.log(1-a))\n",
    "            # 에포크마다 평균 손실을 저장합니다\n",
    "            self.losses.append(loss/len(y))\n",
    "    \n",
    "    def predict(self, x):\n",
    "        z = [self.forpass(x_i) for x_i in x]     # 정방향 계산\n",
    "        return np.array(z) > 0                   # 스텝 함수 적용\n",
    "    \n",
    "    def score(self, x, y):\n",
    "        return np.mean(self.predict(x) == y)\n",
    "\n",
    "layer = SingleLayer()\n",
    "layer.fit(x_train, y_train,1000)\n",
    "layer.score(x_test, y_test)"
   ]
  },
  {
   "cell_type": "code",
   "execution_count": 207,
   "metadata": {},
   "outputs": [
    {
     "data": {
      "image/png": "[encoded data removed]",
      "text/plain": [
       "<Figure size 432x288 with 1 Axes>"
      ]
     },
     "metadata": {
      "needs_background": "light"
     },
     "output_type": "display_data"
    }
   ],
   "source": [
    "plt.plot(layer.losses)\n",
    "plt.xlabel('epoch')\n",
    "plt.ylabel('loss')\n",
    "plt.show()"
   ]
  },
  {
   "cell_type": "markdown",
   "metadata": {},
   "source": [
    "### 스케일링"
   ]
  },
  {
   "cell_type": "code",
   "execution_count": 209,
   "metadata": {
    "scrolled": true
   },
   "outputs": [
    {
     "name": "stdout",
     "output_type": "stream",
     "text": [
      "['mean perimeter' 'mean area']\n"
     ]
    },
    {
     "data": {
      "image/png": "[encoded data removed]",
      "text/plain": [
       "<Figure size 432x288 with 1 Axes>"
      ]
     },
     "metadata": {
      "needs_background": "light"
     },
     "output_type": "display_data"
    }
   ],
   "source": [
    "print(cancer.feature_names[[2,3]])\n",
    "plt.boxplot(x_train[:, 2:4])\n",
    "plt.xlabel('feature')\n",
    "plt.ylabel('value')\n",
    "plt.show()"
   ]
  },
  {
   "cell_type": "code",
   "execution_count": 213,
   "metadata": {},
   "outputs": [
    {
     "name": "stdout",
     "output_type": "stream",
     "text": [
      "[[   1 4000]\n",
      " [   2 3000]\n",
      " [   3 5000]]\n",
      "[[-1.22474487  0.        ]\n",
      " [ 0.         -1.22474487]\n",
      " [ 1.22474487  1.22474487]]\n"
     ]
    }
   ],
   "source": [
    "a = np.array([[1,4000],\n",
    "              [2,3000],\n",
    "              [3,5000]])\n",
    "print(a)\n",
    "train_mean = np.mean(a, axis=0)\n",
    "train_std = np.std(a, axis=0)\n",
    "a_scaled = (a - train_mean) / train_std\n",
    "print(a_scaled)"
   ]
  },
  {
   "cell_type": "code",
   "execution_count": 216,
   "metadata": {},
   "outputs": [
    {
     "name": "stdout",
     "output_type": "stream",
     "text": [
      "364 91\n"
     ]
    }
   ],
   "source": [
    "import numpy as np\n",
    "import matplotlib.pyplot as plt\n",
    "\n",
    "from sklearn.datasets import load_breast_cancer\n",
    "from sklearn.model_selection import train_test_split\n",
    "cancer = load_breast_cancer()\n",
    "x = cancer.data\n",
    "y = cancer.target\n",
    "x_train_all, x_test, y_train_all, y_test = train_test_split(x, y, stratify=y, \n",
    "                                                            test_size=0.2, random_state=42)\n",
    "\n",
    "x_train, x_val, y_train, y_val = train_test_split(x_train_all, y_train_all, stratify=y_train_all, \n",
    "                                                  test_size=0.2, random_state=42)\n",
    "print(len(x_train), len(x_val))"
   ]
  },
  {
   "cell_type": "code",
   "execution_count": 217,
   "metadata": {},
   "outputs": [],
   "source": [
    "class SingleLayer:\n",
    "    \n",
    "    def __init__(self, learning_rate=0.1, l1=0, l2=0):\n",
    "        self.w = None\n",
    "        self.b = None\n",
    "        self.losses = []\n",
    "        self.val_losses = []\n",
    "        self.w_history = []\n",
    "        self.lr = learning_rate\n",
    "        self.l1 = l1\n",
    "        self.l2 = l2\n",
    "\n",
    "    def forpass(self, x):\n",
    "        z = np.sum(x * self.w) + self.b    # 직선 방정식을 계산합니다\n",
    "        return z\n",
    "\n",
    "    def backprop(self, x, err):\n",
    "        w_grad = x * err          # 가중치에 대한 그래디언트를 계산합니다\n",
    "        b_grad = 1 * err    # 절편에 대한 그래디언트를 계산합니다\n",
    "        return w_grad, b_grad\n",
    "\n",
    "    def activation(self, z):\n",
    "        z = np.clip(z, -100, None) # 안전한 np.exp() 계산을 위해\n",
    "        a = 1 / (1 + np.exp(-z))  # 시그모이드 계산\n",
    "        return a\n",
    "        \n",
    "    def fit(self, x, y, epochs=100, x_val=None, y_val=None):\n",
    "        self.w = np.ones(x.shape[1])               # 가중치를 초기화합니다.\n",
    "        self.b = 0                                 # 절편을 초기화합니다.\n",
    "        self.w_history.append(self.w.copy())       # 가중치를 기록합니다.\n",
    "        np.random.seed(42)                         # 랜덤 시드를 지정합니다.\n",
    "        for i in range(epochs):                    # epochs만큼 반복합니다.\n",
    "            loss = 0\n",
    "            # 인덱스를 섞습니다\n",
    "            indexes = np.random.permutation(np.arange(len(x)))\n",
    "            for i in indexes:                      # 모든 샘플에 대해 반복합니다\n",
    "                z = self.forpass(x[i])             # 정방향 계산\n",
    "                a = self.activation(z)             # 활성화 함수 적용\n",
    "                err = -(y[i] - a)                  # 오차 계산\n",
    "                w_grad, b_grad = self.backprop(x[i], err) # 역방향 계산\n",
    "                # 그래디언트에서 페널티 항의 미분 값을 더합니다\n",
    "                w_grad += self.l1 * np.sign(self.w) + self.l2 * self.w\n",
    "                self.w -= self.lr * w_grad         # 가중치 업데이트\n",
    "                self.b -= b_grad                   # 절편 업데이트\n",
    "                # 가중치를 기록합니다.\n",
    "                self.w_history.append(self.w.copy())\n",
    "                # 안전한 로그 계산을 위해 클리핑한 후 손실을 누적합니다\n",
    "                a = np.clip(a, 1e-10, 1-1e-10)\n",
    "                loss += -(y[i]*np.log(a)+(1-y[i])*np.log(1-a))\n",
    "            # 에포크마다 평균 손실을 저장합니다\n",
    "            self.losses.append(loss/len(y) + self.reg_loss())\n",
    "            # 검증 세트에 대한 손실을 계산합니다\n",
    "            self.update_val_loss(x_val, y_val)\n",
    "    \n",
    "    def predict(self, x):\n",
    "        z = [self.forpass(x_i) for x_i in x]     # 정방향 계산\n",
    "        return np.array(z) >= 0                   # 스텝 함수 적용\n",
    "    \n",
    "    def score(self, x, y):\n",
    "        return np.mean(self.predict(x) == y)\n",
    "    \n",
    "    def reg_loss(self):\n",
    "        return self.l1 * np.sum(np.abs(self.w)) + self.l2 / 2 * np.sum(self.w**2)\n",
    "    \n",
    "    def update_val_loss(self, x_val, y_val):\n",
    "        if x_val is None:\n",
    "            return\n",
    "        val_loss = 0\n",
    "        for i in range(len(x_val)):\n",
    "            z = self.forpass(x_val[i])     # 정방향 계산\n",
    "            a = self.activation(z)         # 활성화 함수 적용\n",
    "            a = np.clip(a, 1e-10, 1-1e-10)\n",
    "            val_loss += -(y_val[i]*np.log(a)+(1-y_val[i])*np.log(1-a))\n",
    "        self.val_losses.append(val_loss/len(y_val) + self.reg_loss())"
   ]
  },
  {
   "cell_type": "code",
   "execution_count": 218,
   "metadata": {},
   "outputs": [
    {
     "data": {
      "text/plain": [
       "0.9120879120879121"
      ]
     },
     "execution_count": 218,
     "metadata": {},
     "output_type": "execute_result"
    }
   ],
   "source": [
    "layer1 = SingleLayer()\n",
    "layer1.fit(x_train, y_train)\n",
    "layer1.score(x_val, y_val)"
   ]
  },
  {
   "cell_type": "code",
   "execution_count": 219,
   "metadata": {
    "scrolled": true
   },
   "outputs": [
    {
     "data": {
      "image/png": "[encoded data removed]",
      "text/plain": [
       "<Figure size 432x288 with 1 Axes>"
      ]
     },
     "metadata": {
      "needs_background": "light"
     },
     "output_type": "display_data"
    }
   ],
   "source": [
    "w2 = []\n",
    "w3 = []\n",
    "for w in layer1.w_history:\n",
    "    w2.append(w[2])\n",
    "    w3.append(w[3])\n",
    "plt.plot(w2, w3)\n",
    "plt.plot(w2[-1], w3[-1], 'ro')\n",
    "plt.xlabel('w[2]')\n",
    "plt.ylabel('w[3]')\n",
    "plt.show()"
   ]
  },
  {
   "cell_type": "code",
   "execution_count": 222,
   "metadata": {},
   "outputs": [],
   "source": [
    "train_mean = np.mean(x_train, axis=0)\n",
    "train_std = np.std(x_train, axis=0)\n",
    "x_train_scaled = (x_train - train_mean) / train_std"
   ]
  },
  {
   "cell_type": "code",
   "execution_count": 223,
   "metadata": {},
   "outputs": [],
   "source": [
    "layer2 = SingleLayer()\n",
    "layer2.fit(x_train_scaled, y_train)"
   ]
  },
  {
   "cell_type": "code",
   "execution_count": 224,
   "metadata": {
    "scrolled": true
   },
   "outputs": [
    {
     "data": {
      "image/png": "[encoded data removed]",
      "text/plain": [
       "<Figure size 432x288 with 1 Axes>"
      ]
     },
     "metadata": {
      "needs_background": "light"
     },
     "output_type": "display_data"
    }
   ],
   "source": [
    "w2 = []\n",
    "w3 = []\n",
    "for w in layer2.w_history:\n",
    "    w2.append(w[2])\n",
    "    w3.append(w[3])\n",
    "plt.plot(w2, w3)\n",
    "plt.plot(w2[-1], w3[-1], 'ro')\n",
    "plt.xlabel('w[2]')\n",
    "plt.ylabel('w[3]')\n",
    "plt.show()"
   ]
  },
  {
   "cell_type": "code",
   "execution_count": 225,
   "metadata": {},
   "outputs": [
    {
     "data": {
      "text/plain": [
       "0.37362637362637363"
      ]
     },
     "execution_count": 225,
     "metadata": {},
     "output_type": "execute_result"
    }
   ],
   "source": [
    "layer2.score(x_val, y_val)"
   ]
  },
  {
   "cell_type": "code",
   "execution_count": 227,
   "metadata": {},
   "outputs": [],
   "source": [
    "val_mean = np.mean(x_val, axis=0)\n",
    "val_std = np.std(x_val, axis=0)\n",
    "x_val_scaled = (x_val - val_mean) / val_std"
   ]
  },
  {
   "cell_type": "code",
   "execution_count": 232,
   "metadata": {},
   "outputs": [],
   "source": [
    "x_val_scaled = (x_val - train_mean) / train_std"
   ]
  },
  {
   "cell_type": "code",
   "execution_count": 233,
   "metadata": {},
   "outputs": [
    {
     "data": {
      "text/plain": [
       "0.967032967032967"
      ]
     },
     "execution_count": 233,
     "metadata": {},
     "output_type": "execute_result"
    }
   ],
   "source": [
    "layer2.score(x_val_scaled, y_val)"
   ]
  },
  {
   "cell_type": "code",
   "execution_count": 229,
   "metadata": {},
   "outputs": [
    {
     "data": {
      "image/png": "[encoded data removed]",
      "text/plain": [
       "<Figure size 432x288 with 1 Axes>"
      ]
     },
     "metadata": {
      "needs_background": "light"
     },
     "output_type": "display_data"
    }
   ],
   "source": [
    "plt.plot(x_train[:50, 0], x_train[:50, 1], 'bo')\n",
    "plt.plot(x_val[:50, 0], x_val[:50, 1], 'ro')\n",
    "plt.xlabel('feature 1')\n",
    "plt.ylabel('feature 2')\n",
    "plt.legend(['train set', 'val. set'])\n",
    "plt.show()"
   ]
  },
  {
   "cell_type": "code",
   "execution_count": 230,
   "metadata": {},
   "outputs": [
    {
     "data": {
      "image/png": "[encoded data removed]",
      "text/plain": [
       "<Figure size 432x288 with 1 Axes>"
      ]
     },
     "metadata": {
      "needs_background": "light"
     },
     "output_type": "display_data"
    }
   ],
   "source": [
    "plt.plot(x_train_scaled[:50, 0], x_train_scaled[:50, 1], 'bo')\n",
    "plt.plot(x_val_scaled[:50, 0], x_val_scaled[:50, 1], 'ro')\n",
    "plt.xlabel('feature 1')\n",
    "plt.ylabel('feature 2')\n",
    "plt.legend(['train set', 'val. set'])\n",
    "plt.show()"
   ]
  },
  {
   "cell_type": "code",
   "execution_count": null,
   "metadata": {},
   "outputs": [],
   "source": []
  }
 ],
 "metadata": {
  "kernelspec": {
   "display_name": "Python 3",
   "language": "python",
   "name": "python3"
  },
  "language_info": {
   "codemirror_mode": {
    "name": "ipython",
    "version": 3
   },
   "file_extension": ".py",
   "mimetype": "text/x-python",
   "name": "python",
   "nbconvert_exporter": "python",
   "pygments_lexer": "ipython3",
   "version": "3.8.3"
  }
 },
 "nbformat": 4,
 "nbformat_minor": 4
}
