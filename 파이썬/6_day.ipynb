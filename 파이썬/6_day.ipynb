{
 "cells": [
  {
   "cell_type": "markdown",
   "metadata": {},
   "source": [
    "### 파이썬 객체지향 "
   ]
  },
  {
   "cell_type": "code",
   "execution_count": 95,
   "metadata": {},
   "outputs": [],
   "source": [
    "class AAA:\n",
    "    pass"
   ]
  },
  {
   "cell_type": "code",
   "execution_count": 97,
   "metadata": {},
   "outputs": [],
   "source": [
    "a = AAA()"
   ]
  },
  {
   "cell_type": "code",
   "execution_count": 98,
   "metadata": {},
   "outputs": [
    {
     "data": {
      "text/plain": [
       "<__main__.AAA at 0x255b996d1c0>"
      ]
     },
     "execution_count": 98,
     "metadata": {},
     "output_type": "execute_result"
    }
   ],
   "source": [
    "a"
   ]
  },
  {
   "cell_type": "code",
   "execution_count": 99,
   "metadata": {},
   "outputs": [],
   "source": [
    "def foo(x,y):\n",
    "    pass\n",
    "\n",
    "x=100\n",
    "y=100\n",
    "foo(x,y)"
   ]
  },
  {
   "cell_type": "code",
   "execution_count": 103,
   "metadata": {},
   "outputs": [],
   "source": [
    "class Point:\n",
    "    def foo(self, x, y):\n",
    "        self.x = x\n",
    "        self.y = y\n",
    "        \n",
    "p1 = Point()\n",
    "p1.foo(100,100)"
   ]
  },
  {
   "cell_type": "code",
   "execution_count": 104,
   "metadata": {},
   "outputs": [
    {
     "data": {
      "text/plain": [
       "100"
      ]
     },
     "execution_count": 104,
     "metadata": {},
     "output_type": "execute_result"
    }
   ],
   "source": [
    "p1.x"
   ]
  },
  {
   "cell_type": "code",
   "execution_count": 105,
   "metadata": {},
   "outputs": [
    {
     "data": {
      "text/plain": [
       "100"
      ]
     },
     "execution_count": 105,
     "metadata": {},
     "output_type": "execute_result"
    }
   ],
   "source": [
    "p1.y"
   ]
  },
  {
   "cell_type": "code",
   "execution_count": 106,
   "metadata": {},
   "outputs": [
    {
     "data": {
      "text/plain": [
       "<__main__.Point at 0x255b998adf0>"
      ]
     },
     "execution_count": 106,
     "metadata": {},
     "output_type": "execute_result"
    }
   ],
   "source": [
    "p1"
   ]
  },
  {
   "cell_type": "code",
   "execution_count": 107,
   "metadata": {},
   "outputs": [],
   "source": [
    "class Point:\n",
    "    def foo(self, x, y):\n",
    "        self.x = x\n",
    "        self.y = y\n",
    "        \n",
    "p1 = Point()"
   ]
  },
  {
   "cell_type": "code",
   "execution_count": 108,
   "metadata": {},
   "outputs": [
    {
     "ename": "AttributeError",
     "evalue": "'Point' object has no attribute 'x'",
     "output_type": "error",
     "traceback": [
      "\u001b[1;31m---------------------------------------------------------------------\u001b[0m",
      "\u001b[1;31mAttributeError\u001b[0m                      Traceback (most recent call last)",
      "\u001b[1;32m<ipython-input-108-54f8378113e3>\u001b[0m in \u001b[0;36m<module>\u001b[1;34m\u001b[0m\n\u001b[1;32m----> 1\u001b[1;33m \u001b[0mp1\u001b[0m\u001b[1;33m.\u001b[0m\u001b[0mx\u001b[0m\u001b[1;33m\u001b[0m\u001b[1;33m\u001b[0m\u001b[0m\n\u001b[0m",
      "\u001b[1;31mAttributeError\u001b[0m: 'Point' object has no attribute 'x'"
     ]
    }
   ],
   "source": [
    "p1.x"
   ]
  },
  {
   "cell_type": "code",
   "execution_count": 122,
   "metadata": {},
   "outputs": [
    {
     "name": "stdout",
     "output_type": "stream",
     "text": [
      "__init__()\n"
     ]
    }
   ],
   "source": [
    "class Point:\n",
    "    def __init__(self, x=0, y=0):\n",
    "        print(\"__init__()\")\n",
    "        self.x = x\n",
    "        self.y = y\n",
    "        \n",
    "p1 = Point()"
   ]
  },
  {
   "cell_type": "code",
   "execution_count": 123,
   "metadata": {},
   "outputs": [
    {
     "data": {
      "text/plain": [
       "0"
      ]
     },
     "execution_count": 123,
     "metadata": {},
     "output_type": "execute_result"
    }
   ],
   "source": [
    "p1.x"
   ]
  },
  {
   "cell_type": "code",
   "execution_count": 124,
   "metadata": {},
   "outputs": [
    {
     "data": {
      "text/plain": [
       "0"
      ]
     },
     "execution_count": 124,
     "metadata": {},
     "output_type": "execute_result"
    }
   ],
   "source": [
    "p1.y"
   ]
  },
  {
   "cell_type": "code",
   "execution_count": 129,
   "metadata": {},
   "outputs": [
    {
     "name": "stdout",
     "output_type": "stream",
     "text": [
      "(0, 0)\n"
     ]
    }
   ],
   "source": [
    "class Point:\n",
    "    def __init__(self, x=0, y=0):\n",
    "        self.x = x\n",
    "        self.y = y\n",
    "        \n",
    "p1 = Point()\n",
    "print( \"(%d, %d)\"%(p1.x, p1.y) )"
   ]
  },
  {
   "cell_type": "code",
   "execution_count": 135,
   "metadata": {},
   "outputs": [
    {
     "name": "stdout",
     "output_type": "stream",
     "text": [
      "(100, 100)\n",
      "<__main__.Point object at 0x00000255B99A8FA0>\n"
     ]
    }
   ],
   "source": [
    "class Point:\n",
    "    def __init__(self, x=0, y=0):\n",
    "        self.x = x\n",
    "        self.y = y\n",
    "        \n",
    "    def display(self):\n",
    "        print( \"(%d, %d)\"%(self.x, self.y) )\n",
    "        \n",
    "p1 = Point(100,100)\n",
    "p1.display()\n",
    "print(p1)"
   ]
  },
  {
   "cell_type": "code",
   "execution_count": 136,
   "metadata": {},
   "outputs": [
    {
     "name": "stdout",
     "output_type": "stream",
     "text": [
      "(10, 10)\n"
     ]
    },
    {
     "data": {
      "text/plain": [
       "['__add__',\n",
       " '__class__',\n",
       " '__contains__',\n",
       " '__delattr__',\n",
       " '__dir__',\n",
       " '__doc__',\n",
       " '__eq__',\n",
       " '__format__',\n",
       " '__ge__',\n",
       " '__getattribute__',\n",
       " '__getitem__',\n",
       " '__getnewargs__',\n",
       " '__gt__',\n",
       " '__hash__',\n",
       " '__init__',\n",
       " '__init_subclass__',\n",
       " '__iter__',\n",
       " '__le__',\n",
       " '__len__',\n",
       " '__lt__',\n",
       " '__mul__',\n",
       " '__ne__',\n",
       " '__new__',\n",
       " '__reduce__',\n",
       " '__reduce_ex__',\n",
       " '__repr__',\n",
       " '__rmul__',\n",
       " '__setattr__',\n",
       " '__sizeof__',\n",
       " '__str__',\n",
       " '__subclasshook__',\n",
       " 'count',\n",
       " 'index']"
      ]
     },
     "execution_count": 136,
     "metadata": {},
     "output_type": "execute_result"
    }
   ],
   "source": [
    "t1 = (10,10)\n",
    "print(t1)\n",
    "dir(t1)"
   ]
  },
  {
   "cell_type": "code",
   "execution_count": 139,
   "metadata": {},
   "outputs": [
    {
     "name": "stdout",
     "output_type": "stream",
     "text": [
      "(100, 100)\n"
     ]
    }
   ],
   "source": [
    "class Point:\n",
    "    def __init__(self, x=0, y=0):\n",
    "        self.x = x\n",
    "        self.y = y\n",
    "        \n",
    "    def __str__(self):\n",
    "        return \"(%d, %d)\"%(self.x, self.y)\n",
    "        \n",
    "p1 = Point(100,100)\n",
    "print(p1)"
   ]
  },
  {
   "cell_type": "code",
   "execution_count": 144,
   "metadata": {},
   "outputs": [
    {
     "name": "stdout",
     "output_type": "stream",
     "text": [
      "(100, 100)\n"
     ]
    },
    {
     "data": {
      "text/plain": [
       "<__main__.Point at 0x255b99a81f0>"
      ]
     },
     "execution_count": 144,
     "metadata": {},
     "output_type": "execute_result"
    }
   ],
   "source": [
    "class Point:\n",
    "    def __init__(self, x=0, y=0):\n",
    "        self.x = x\n",
    "        self.y = y\n",
    "        \n",
    "    def __str__(self):\n",
    "        return \"({0.x}, {0.y})\".format(self)\n",
    "        \n",
    "p1 = Point(100,100)\n",
    "print(p1)\n",
    "p1"
   ]
  },
  {
   "cell_type": "code",
   "execution_count": 143,
   "metadata": {},
   "outputs": [
    {
     "name": "stdout",
     "output_type": "stream",
     "text": [
      "(1, 2)\n"
     ]
    },
    {
     "data": {
      "text/plain": [
       "(1, 2)"
      ]
     },
     "execution_count": 143,
     "metadata": {},
     "output_type": "execute_result"
    }
   ],
   "source": [
    "t1=(1,2)\n",
    "print(t1)\n",
    "t1"
   ]
  },
  {
   "cell_type": "code",
   "execution_count": 150,
   "metadata": {},
   "outputs": [
    {
     "name": "stdout",
     "output_type": "stream",
     "text": [
      "Point(100, 100)\n"
     ]
    },
    {
     "data": {
      "text/plain": [
       "Point(100, 100)"
      ]
     },
     "execution_count": 150,
     "metadata": {},
     "output_type": "execute_result"
    }
   ],
   "source": [
    "class Point:\n",
    "    def __init__(self, x=0, y=0):\n",
    "        self.x = x\n",
    "        self.y = y\n",
    "        \n",
    "    def __repr__(self):\n",
    "        return \"Point({0.x}, {0.y})\".format(self)\n",
    "    \n",
    "#    def __str__(self):\n",
    "#        return \"({0.x}, {0.y})\".format(self)\n",
    "        \n",
    "p1 = Point(100,100)\n",
    "print(p1)\n",
    "p1"
   ]
  },
  {
   "cell_type": "code",
   "execution_count": 146,
   "metadata": {},
   "outputs": [
    {
     "data": {
      "text/plain": [
       "[1, 2]"
      ]
     },
     "execution_count": 146,
     "metadata": {},
     "output_type": "execute_result"
    }
   ],
   "source": [
    "l1=[1,2]\n",
    "l1"
   ]
  },
  {
   "cell_type": "code",
   "execution_count": 147,
   "metadata": {},
   "outputs": [
    {
     "name": "stdout",
     "output_type": "stream",
     "text": [
      "[1, 2]\n"
     ]
    }
   ],
   "source": [
    "print(l1)"
   ]
  },
  {
   "cell_type": "code",
   "execution_count": 148,
   "metadata": {},
   "outputs": [
    {
     "data": {
      "text/plain": [
       "[1, 2]"
      ]
     },
     "execution_count": 148,
     "metadata": {},
     "output_type": "execute_result"
    }
   ],
   "source": [
    "l2=list([1,2])\n",
    "l2"
   ]
  },
  {
   "cell_type": "code",
   "execution_count": null,
   "metadata": {},
   "outputs": [],
   "source": [
    "tuple(1,2)\n",
    "list(1,2)\n",
    "Point(100,100)"
   ]
  },
  {
   "cell_type": "code",
   "execution_count": 157,
   "metadata": {},
   "outputs": [
    {
     "name": "stdout",
     "output_type": "stream",
     "text": [
      "(100, 100)\n"
     ]
    }
   ],
   "source": [
    "class Point:\n",
    "    def __init__(self, x=0, y=0):\n",
    "        self.x = x\n",
    "        self.y = y\n",
    "        \n",
    "    def __repr__(self):\n",
    "        return \"Point({0.x!r}, {0.y!r})\".format(self)\n",
    "    \n",
    "    def __str__(self):\n",
    "        return \"({0.x}, {0.y})\".format(self)\n",
    "        \n",
    "p1 = Point(100,100)\n",
    "print(p1)"
   ]
  },
  {
   "cell_type": "code",
   "execution_count": 158,
   "metadata": {},
   "outputs": [
    {
     "name": "stdout",
     "output_type": "stream",
     "text": [
      "(100, 100)\n"
     ]
    }
   ],
   "source": [
    "print(\"{0}\".format(p1))"
   ]
  },
  {
   "cell_type": "code",
   "execution_count": 159,
   "metadata": {},
   "outputs": [
    {
     "name": "stdout",
     "output_type": "stream",
     "text": [
      "Point(100, 100)\n"
     ]
    }
   ],
   "source": [
    "print(\"{0!r}\".format(p1))"
   ]
  },
  {
   "cell_type": "code",
   "execution_count": 163,
   "metadata": {},
   "outputs": [
    {
     "name": "stdout",
     "output_type": "stream",
     "text": [
      "((100, 100), (200, 200))\n"
     ]
    },
    {
     "data": {
      "text/plain": [
       "Rect(Point(100, 100), Point(200, 200))"
      ]
     },
     "execution_count": 163,
     "metadata": {},
     "output_type": "execute_result"
    }
   ],
   "source": [
    "class Point:\n",
    "    def __init__(self, x=0, y=0):\n",
    "        self.x = x\n",
    "        self.y = y\n",
    "        \n",
    "    def __repr__(self):\n",
    "        return \"Point({0.x!r}, {0.y!r})\".format(self)\n",
    "    \n",
    "    def __str__(self):\n",
    "        return \"({0.x}, {0.y})\".format(self)\n",
    "    \n",
    "class Rect:\n",
    "    def __init__(self, first, second):\n",
    "        self.first = first\n",
    "        self.second = second\n",
    "        \n",
    "    def __repr__(self):\n",
    "        return \"Rect({0.first!r}, {0.second!r})\".format(self)\n",
    "    \n",
    "    def __str__(self):\n",
    "        return \"({0.first}, {0.second})\".format(self)    \n",
    "    \n",
    "p1 = Point(100, 100)\n",
    "p2 = Point(200, 200)\n",
    "r1 = Rect(p1, p2)\n",
    "print(r1)\n",
    "r1"
   ]
  },
  {
   "cell_type": "code",
   "execution_count": 166,
   "metadata": {},
   "outputs": [],
   "source": [
    "class Point:\n",
    "    def __init__(self, x=0, y=0):\n",
    "        self.x = x\n",
    "        self.y = y\n",
    "        \n",
    "p1 = Point()\n",
    "p1.x = 100\n",
    "p1.z = 200"
   ]
  },
  {
   "cell_type": "code",
   "execution_count": 167,
   "metadata": {},
   "outputs": [
    {
     "data": {
      "text/plain": [
       "200"
      ]
     },
     "execution_count": 167,
     "metadata": {},
     "output_type": "execute_result"
    }
   ],
   "source": [
    "p1.z"
   ]
  },
  {
   "cell_type": "code",
   "execution_count": 172,
   "metadata": {},
   "outputs": [
    {
     "data": {
      "text/plain": [
       "100"
      ]
     },
     "execution_count": 172,
     "metadata": {},
     "output_type": "execute_result"
    }
   ],
   "source": [
    "class Point:\n",
    "    def __init__(self, x=0, y=0):\n",
    "        self.x = x\n",
    "        self.y = y\n",
    "        \n",
    "    def foo(self):\n",
    "        self.z = 100\n",
    "        \n",
    "p1 = Point()\n",
    "p1.foo()\n",
    "p1.z"
   ]
  },
  {
   "cell_type": "code",
   "execution_count": 175,
   "metadata": {},
   "outputs": [],
   "source": [
    "class Point:\n",
    "    def __init__(self, x=0, y=0):\n",
    "        self.x = x\n",
    "        self.y = y\n",
    "        self.count=0\n",
    "        self.count+=1"
   ]
  },
  {
   "cell_type": "code",
   "execution_count": 182,
   "metadata": {},
   "outputs": [
    {
     "name": "stdout",
     "output_type": "stream",
     "text": [
      "1\n",
      "1\n"
     ]
    }
   ],
   "source": [
    "p1 = Point()\n",
    "p2 = Point()\n",
    "print(p1.count)\n",
    "print(p2.count)"
   ]
  },
  {
   "cell_type": "code",
   "execution_count": 19,
   "metadata": {},
   "outputs": [],
   "source": [
    "class Point:\n",
    "    count=0\n",
    "    def __init__(self, x=0, y=0):\n",
    "        print(\"__init__()\")\n",
    "        self.x = x\n",
    "        self.y = y\n",
    "        Point.count += 1"
   ]
  },
  {
   "cell_type": "code",
   "execution_count": 20,
   "metadata": {},
   "outputs": [
    {
     "data": {
      "text/plain": [
       "0"
      ]
     },
     "execution_count": 20,
     "metadata": {},
     "output_type": "execute_result"
    }
   ],
   "source": [
    "Point.count"
   ]
  },
  {
   "cell_type": "code",
   "execution_count": 21,
   "metadata": {},
   "outputs": [
    {
     "name": "stdout",
     "output_type": "stream",
     "text": [
      "__init__()\n",
      "1\n",
      "__init__()\n",
      "2\n"
     ]
    }
   ],
   "source": [
    "p1 = Point()\n",
    "print(p1.count)\n",
    "\n",
    "p2 = Point()\n",
    "print(p2.count)"
   ]
  },
  {
   "cell_type": "code",
   "execution_count": 31,
   "metadata": {},
   "outputs": [
    {
     "name": "stdout",
     "output_type": "stream",
     "text": [
      "<class 'set'>\n"
     ]
    }
   ],
   "source": [
    "i={1,2,3}\n",
    "print(type(i))"
   ]
  },
  {
   "cell_type": "code",
   "execution_count": 32,
   "metadata": {},
   "outputs": [
    {
     "name": "stdout",
     "output_type": "stream",
     "text": [
      "<class '__main__.Point'>\n"
     ]
    }
   ],
   "source": [
    "print(type(p1))"
   ]
  },
  {
   "cell_type": "code",
   "execution_count": 33,
   "metadata": {},
   "outputs": [
    {
     "name": "stdout",
     "output_type": "stream",
     "text": [
      "<class 'type'>\n"
     ]
    }
   ],
   "source": [
    "print(type(Point))"
   ]
  },
  {
   "cell_type": "code",
   "execution_count": 39,
   "metadata": {},
   "outputs": [
    {
     "name": "stdout",
     "output_type": "stream",
     "text": [
      "200cf2479b0\n",
      "200cfcc9850\n",
      "200cfcc9280\n"
     ]
    }
   ],
   "source": [
    "print(\"%x\"%id(Point))\n",
    "print(\"%x\"%id(p1))\n",
    "print(\"%x\"%id(p2))"
   ]
  },
  {
   "cell_type": "code",
   "execution_count": 36,
   "metadata": {},
   "outputs": [
    {
     "name": "stdout",
     "output_type": "stream",
     "text": [
      "7ffc7a583840\n"
     ]
    }
   ],
   "source": [
    "i=10\n",
    "print(\"%x\"%id(i))"
   ]
  },
  {
   "cell_type": "markdown",
   "metadata": {},
   "source": [
    "### 상속"
   ]
  },
  {
   "cell_type": "code",
   "execution_count": 40,
   "metadata": {},
   "outputs": [
    {
     "name": "stdout",
     "output_type": "stream",
     "text": [
      "자동차가 달린다\n"
     ]
    }
   ],
   "source": [
    "class Car:\n",
    "    def run(self):\n",
    "        print(\"자동차가 달린다\")\n",
    "\n",
    "c1 = Car();\n",
    "c1.run();"
   ]
  },
  {
   "cell_type": "code",
   "execution_count": 41,
   "metadata": {},
   "outputs": [
    {
     "name": "stdout",
     "output_type": "stream",
     "text": [
      "자동차가 달린다\n"
     ]
    }
   ],
   "source": [
    "class Model3(Car):\n",
    "    pass\n",
    "\n",
    "m1 = Model3();\n",
    "m1.run(); "
   ]
  },
  {
   "cell_type": "code",
   "execution_count": 42,
   "metadata": {},
   "outputs": [
    {
     "name": "stdout",
     "output_type": "stream",
     "text": [
      "전기차가 달린다\n"
     ]
    }
   ],
   "source": [
    "class Car:\n",
    "    def run(self):\n",
    "        print(\"자동차가 달린다\")\n",
    "        \n",
    "class Model3(Car):\n",
    "    def run(self):\n",
    "        print(\"전기차`가 달린다\")\n",
    "        \n",
    "m1 = Model3();\n",
    "m1.run(); "
   ]
  },
  {
   "cell_type": "code",
   "execution_count": 43,
   "metadata": {},
   "outputs": [
    {
     "name": "stdout",
     "output_type": "stream",
     "text": [
      "자동차가 달린다\n"
     ]
    }
   ],
   "source": [
    "c1 = Car();\n",
    "c1.run(); "
   ]
  },
  {
   "cell_type": "markdown",
   "metadata": {},
   "source": [
    "### 파이썬에서 함수의 오버로딩이 가능한가?"
   ]
  },
  {
   "cell_type": "markdown",
   "metadata": {},
   "source": [
    "답: 안된다.  \n",
    "이유: 파이썬에서의 함수는 객체이고 함수의 이름은 함수객체를 가리키는 레퍼런스이다. "
   ]
  },
  {
   "cell_type": "code",
   "execution_count": 45,
   "metadata": {},
   "outputs": [],
   "source": [
    "def foo(a):\n",
    "    print(a)\n",
    "    \n",
    "def foo(a,b):\n",
    "    print(a,b)"
   ]
  },
  {
   "cell_type": "code",
   "execution_count": 46,
   "metadata": {},
   "outputs": [
    {
     "name": "stdout",
     "output_type": "stream",
     "text": [
      "1 2\n"
     ]
    }
   ],
   "source": [
    "foo(1,2)"
   ]
  },
  {
   "cell_type": "code",
   "execution_count": 47,
   "metadata": {},
   "outputs": [
    {
     "ename": "TypeError",
     "evalue": "foo() missing 1 required positional argument: 'b'",
     "output_type": "error",
     "traceback": [
      "\u001b[1;31m---------------------------------------------------------------------\u001b[0m",
      "\u001b[1;31mTypeError\u001b[0m                           Traceback (most recent call last)",
      "\u001b[1;32m<ipython-input-47-7d8d25071659>\u001b[0m in \u001b[0;36m<module>\u001b[1;34m\u001b[0m\n\u001b[1;32m----> 1\u001b[1;33m \u001b[0mfoo\u001b[0m\u001b[1;33m(\u001b[0m\u001b[1;36m1\u001b[0m\u001b[1;33m)\u001b[0m\u001b[1;33m\u001b[0m\u001b[1;33m\u001b[0m\u001b[0m\n\u001b[0m",
      "\u001b[1;31mTypeError\u001b[0m: foo() missing 1 required positional argument: 'b'"
     ]
    }
   ],
   "source": [
    "foo(1)"
   ]
  },
  {
   "cell_type": "code",
   "execution_count": 51,
   "metadata": {},
   "outputs": [
    {
     "name": "stdout",
     "output_type": "stream",
     "text": [
      "전기차가 달린다\n"
     ]
    }
   ],
   "source": [
    "class Car:\n",
    "    def run(self):\n",
    "        print(\"달린다\")\n",
    "        \n",
    "class Model3(Car):\n",
    "    def run(self):\n",
    "        print(\"전기차가 \", end='')\n",
    "        Car.run(self)\n",
    "        \n",
    "m1 = Model3();\n",
    "m1.run();  # Module3.run(m1)"
   ]
  },
  {
   "cell_type": "code",
   "execution_count": 53,
   "metadata": {},
   "outputs": [
    {
     "name": "stdout",
     "output_type": "stream",
     "text": [
      "AAA.__init__()\n"
     ]
    }
   ],
   "source": [
    "class AAA:\n",
    "    def __init__(self):\n",
    "        print(\"AAA.__init__()\")\n",
    "        \n",
    "a = AAA() # AAA.__init__(a)"
   ]
  },
  {
   "cell_type": "code",
   "execution_count": 55,
   "metadata": {},
   "outputs": [
    {
     "name": "stdout",
     "output_type": "stream",
     "text": [
      "AAA.__init__()\n"
     ]
    }
   ],
   "source": [
    "class AAA:\n",
    "    def __init__(self):\n",
    "        print(\"AAA.__init__()\")\n",
    "        \n",
    "class BBB(AAA):\n",
    "    pass\n",
    "\n",
    "a = BBB()"
   ]
  },
  {
   "cell_type": "code",
   "execution_count": 56,
   "metadata": {},
   "outputs": [
    {
     "name": "stdout",
     "output_type": "stream",
     "text": [
      "BBB.__init__()\n"
     ]
    }
   ],
   "source": [
    "class AAA:\n",
    "    def __init__(self):\n",
    "        print(\"AAA.__init__()\")\n",
    "        \n",
    "class BBB(AAA):\n",
    "    def __init__(self):\n",
    "        print(\"BBB.__init__()\")\n",
    "\n",
    "a = BBB()"
   ]
  },
  {
   "cell_type": "code",
   "execution_count": 59,
   "metadata": {},
   "outputs": [
    {
     "name": "stdout",
     "output_type": "stream",
     "text": [
      "BBB.__init__()\n"
     ]
    },
    {
     "ename": "AttributeError",
     "evalue": "'BBB' object has no attribute 'x'",
     "output_type": "error",
     "traceback": [
      "\u001b[1;31m---------------------------------------------------------------------\u001b[0m",
      "\u001b[1;31mAttributeError\u001b[0m                      Traceback (most recent call last)",
      "\u001b[1;32m<ipython-input-59-b4dd37bde4df>\u001b[0m in \u001b[0;36m<module>\u001b[1;34m\u001b[0m\n\u001b[0;32m     12\u001b[0m \u001b[1;33m\u001b[0m\u001b[0m\n\u001b[0;32m     13\u001b[0m \u001b[0ma\u001b[0m \u001b[1;33m=\u001b[0m \u001b[0mBBB\u001b[0m\u001b[1;33m(\u001b[0m\u001b[1;33m)\u001b[0m\u001b[1;33m\u001b[0m\u001b[1;33m\u001b[0m\u001b[0m\n\u001b[1;32m---> 14\u001b[1;33m \u001b[0ma\u001b[0m\u001b[1;33m.\u001b[0m\u001b[0mfoo\u001b[0m\u001b[1;33m(\u001b[0m\u001b[1;33m)\u001b[0m\u001b[1;33m\u001b[0m\u001b[1;33m\u001b[0m\u001b[0m\n\u001b[0m",
      "\u001b[1;32m<ipython-input-59-b4dd37bde4df>\u001b[0m in \u001b[0;36mfoo\u001b[1;34m(self)\u001b[0m\n\u001b[0;32m      9\u001b[0m \u001b[1;33m\u001b[0m\u001b[0m\n\u001b[0;32m     10\u001b[0m     \u001b[1;32mdef\u001b[0m \u001b[0mfoo\u001b[0m\u001b[1;33m(\u001b[0m\u001b[0mself\u001b[0m\u001b[1;33m)\u001b[0m\u001b[1;33m:\u001b[0m\u001b[1;33m\u001b[0m\u001b[1;33m\u001b[0m\u001b[0m\n\u001b[1;32m---> 11\u001b[1;33m         \u001b[0mprint\u001b[0m\u001b[1;33m(\u001b[0m\u001b[0mself\u001b[0m\u001b[1;33m.\u001b[0m\u001b[0mx\u001b[0m\u001b[1;33m)\u001b[0m\u001b[1;33m\u001b[0m\u001b[1;33m\u001b[0m\u001b[0m\n\u001b[0m\u001b[0;32m     12\u001b[0m \u001b[1;33m\u001b[0m\u001b[0m\n\u001b[0;32m     13\u001b[0m \u001b[0ma\u001b[0m \u001b[1;33m=\u001b[0m \u001b[0mBBB\u001b[0m\u001b[1;33m(\u001b[0m\u001b[1;33m)\u001b[0m\u001b[1;33m\u001b[0m\u001b[1;33m\u001b[0m\u001b[0m\n",
      "\u001b[1;31mAttributeError\u001b[0m: 'BBB' object has no attribute 'x'"
     ]
    }
   ],
   "source": [
    "class AAA:\n",
    "    def __init__(self):\n",
    "        self.x = 100\n",
    "        print(\"AAA.__init__()\")\n",
    "        \n",
    "class BBB(AAA):\n",
    "    def __init__(self):\n",
    "        print(\"BBB.__init__()\")\n",
    "        \n",
    "    def foo(self):\n",
    "        print(self.x)\n",
    "\n",
    "a = BBB()\n",
    "a.foo()"
   ]
  },
  {
   "cell_type": "code",
   "execution_count": 61,
   "metadata": {},
   "outputs": [
    {
     "name": "stdout",
     "output_type": "stream",
     "text": [
      "AAA.__init__()\n",
      "BBB.__init__()\n",
      "100 200\n"
     ]
    }
   ],
   "source": [
    "class AAA:\n",
    "    def __init__(self):\n",
    "        self.x = 100\n",
    "        print(\"AAA.__init__()\")\n",
    "        \n",
    "class BBB(AAA):\n",
    "    def __init__(self):\n",
    "        self.y = 200\n",
    "        AAA.__init__(self)\n",
    "        print(\"BBB.__init__()\")\n",
    "        \n",
    "    def foo(self):\n",
    "        print(self.x, self.y)\n",
    "\n",
    "a = BBB()\n",
    "a.foo()"
   ]
  },
  {
   "cell_type": "code",
   "execution_count": 64,
   "metadata": {},
   "outputs": [
    {
     "name": "stdout",
     "output_type": "stream",
     "text": [
      "AAA.__init__()\n",
      "AAA.__init__()\n",
      "BBB.__init__()\n",
      "AAA.__init__()\n",
      "BBB.__init__()\n",
      "CCC.__init__()\n"
     ]
    }
   ],
   "source": [
    "class AAA:\n",
    "    def __init__(self):\n",
    "        print(\"AAA.__init__()\")\n",
    "        \n",
    "class BBB(AAA):\n",
    "    def __init__(self):\n",
    "        AAA.__init__(self)\n",
    "        print(\"BBB.__init__()\")\n",
    "\n",
    "class CCC(BBB):\n",
    "    def __init__(self):\n",
    "        BBB.__init__(self)\n",
    "        print(\"CCC.__init__()\")\n",
    "        \n",
    "a = AAA()\n",
    "b = BBB()\n",
    "c = CCC()"
   ]
  },
  {
   "cell_type": "code",
   "execution_count": 66,
   "metadata": {},
   "outputs": [
    {
     "name": "stdout",
     "output_type": "stream",
     "text": [
      "AAA.__init__()\n",
      "BBB.__init__()\n",
      "CCC.__init__()\n",
      "100 200 300\n"
     ]
    }
   ],
   "source": [
    "class AAA:\n",
    "    def __init__(self):\n",
    "        self.x = 100\n",
    "        print(\"AAA.__init__()\")\n",
    "        \n",
    "class BBB(AAA):\n",
    "    def __init__(self):\n",
    "        self.y = 200\n",
    "        AAA.__init__(self)\n",
    "        print(\"BBB.__init__()\")\n",
    "\n",
    "class CCC(BBB):\n",
    "    def __init__(self):\n",
    "        self.z = 300\n",
    "        BBB.__init__(self)\n",
    "        print(\"CCC.__init__()\")\n",
    "        \n",
    "    def foo(self):\n",
    "        print(self.x, self.y, self.z)\n",
    "\n",
    "        \n",
    "c = CCC()\n",
    "c.foo()"
   ]
  },
  {
   "cell_type": "markdown",
   "metadata": {},
   "source": [
    "### 파이썬의 다중상속 지원"
   ]
  },
  {
   "cell_type": "code",
   "execution_count": 68,
   "metadata": {},
   "outputs": [
    {
     "name": "stdout",
     "output_type": "stream",
     "text": [
      "AAA.__init__()\n",
      "BBB.__init__()\n",
      "CCC.__init__()\n"
     ]
    }
   ],
   "source": [
    "class AAA:\n",
    "    def __init__(self):\n",
    "        print(\"AAA.__init__()\")\n",
    "        \n",
    "class BBB:\n",
    "    def __init__(self):\n",
    "        print(\"BBB.__init__()\")\n",
    "\n",
    "class CCC(AAA, BBB):\n",
    "    def __init__(self):\n",
    "        AAA.__init__(self)\n",
    "        BBB.__init__(self)\n",
    "        print(\"CCC.__init__()\")\n",
    "        \n",
    "c = CCC()"
   ]
  },
  {
   "cell_type": "code",
   "execution_count": 75,
   "metadata": {},
   "outputs": [
    {
     "name": "stdout",
     "output_type": "stream",
     "text": [
      "[<class '__main__.BBB'>, <class '__main__.AAA'>, <class 'object'>]\n",
      "[<class '__main__.DDD'>, <class '__main__.BBB'>, <class '__main__.CCC'>, <class '__main__.AAA'>, <class 'object'>]\n"
     ]
    }
   ],
   "source": [
    "class AAA:\n",
    "    def __init__(self):\n",
    "        print(\"AAA.__init__()\")\n",
    "        \n",
    "class BBB(AAA):\n",
    "    def __init__(self):\n",
    "        AAA.__init__(self)\n",
    "        print(\"BBB.__init__()\")\n",
    "\n",
    "class CCC(AAA):\n",
    "    def __init__(self):\n",
    "        AAA.__init__(self)\n",
    "        print(\"CCC.__init__()\")        \n",
    "        \n",
    "class DDD(BBB, CCC):\n",
    "    def __init__(self):\n",
    "        BBB.__init__(self)\n",
    "        CCC.__init__(self)\n",
    "        print(\"DDD.__init__()\")\n",
    "\n",
    "print(BBB.mro())\n",
    "print(DDD.mro())"
   ]
  },
  {
   "cell_type": "code",
   "execution_count": 82,
   "metadata": {},
   "outputs": [
    {
     "name": "stdout",
     "output_type": "stream",
     "text": [
      "[<class '__main__.AAA'>, <class 'object'>]\n"
     ]
    }
   ],
   "source": [
    "class AAA:\n",
    "    pass\n",
    "\n",
    "print(AAA.mro())"
   ]
  },
  {
   "cell_type": "code",
   "execution_count": 79,
   "metadata": {},
   "outputs": [
    {
     "name": "stdout",
     "output_type": "stream",
     "text": [
      "[<class 'int'>, <class 'object'>]\n"
     ]
    }
   ],
   "source": [
    "print(int.mro())"
   ]
  },
  {
   "cell_type": "code",
   "execution_count": 84,
   "metadata": {},
   "outputs": [
    {
     "name": "stdout",
     "output_type": "stream",
     "text": [
      "AAA.__init__()\n",
      "CCC.__init__()\n",
      "BBB.__init__()\n",
      "DDD.__init__()\n"
     ]
    }
   ],
   "source": [
    "class AAA:\n",
    "    def __init__(self):\n",
    "        print(\"AAA.__init__()\")\n",
    "        \n",
    "class BBB(AAA):\n",
    "    def __init__(self):\n",
    "        super().__init__()\n",
    "        print(\"BBB.__init__()\")\n",
    "\n",
    "class CCC(AAA):\n",
    "    def __init__(self):\n",
    "        super().__init__()\n",
    "        print(\"CCC.__init__()\")        \n",
    "        \n",
    "class DDD(BBB, CCC):\n",
    "    def __init__(self):\n",
    "        super().__init__()\n",
    "        print(\"DDD.__init__()\")\n",
    "        \n",
    "d = DDD()"
   ]
  },
  {
   "cell_type": "code",
   "execution_count": null,
   "metadata": {},
   "outputs": [],
   "source": []
  }
 ],
 "metadata": {
  "kernelspec": {
   "display_name": "Python 3",
   "language": "python",
   "name": "python3"
  },
  "language_info": {
   "codemirror_mode": {
    "name": "ipython",
    "version": 3
   },
   "file_extension": ".py",
   "mimetype": "text/x-python",
   "name": "python",
   "nbconvert_exporter": "python",
   "pygments_lexer": "ipython3",
   "version": "3.8.3"
  }
 },
 "nbformat": 4,
 "nbformat_minor": 4
}
